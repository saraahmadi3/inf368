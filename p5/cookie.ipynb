{
 "cells": [
  {
   "cell_type": "code",
   "execution_count": 13,
   "metadata": {},
   "outputs": [],
   "source": [
    "import gymnasium\n",
    "import cookiedisaster\n",
    "import numpy as np\n",
    "\n",
    "SEED=0\n",
    "np.random.seed(SEED)\n",
    "\n",
    "env = gymnasium.make('cookiedisaster/GridWorld-v0',render_mode='human')"
   ]
  },
  {
   "cell_type": "markdown",
   "metadata": {},
   "source": [
    "#### seed vs not seed, doens't matter, still get random each time??"
   ]
  },
  {
   "cell_type": "code",
   "execution_count": 14,
   "metadata": {},
   "outputs": [
    {
     "data": {
      "text/plain": [
       "({'agent': {'pos': 4, 'vel': 0.0},\n",
       "  'cookie': {'pos': 0.10111663773625759, 'time': 5}},\n",
       " {'distance': 3.898883362263742, 'steps': 0})"
      ]
     },
     "execution_count": 14,
     "metadata": {},
     "output_type": "execute_result"
    }
   ],
   "source": [
    "# env = gymnasium.make('cookiedisaster/GridWorld-v0',render_mode='human')\n",
    "env.reset() "
   ]
  },
  {
   "cell_type": "code",
   "execution_count": 15,
   "metadata": {},
   "outputs": [
    {
     "data": {
      "text/plain": [
       "({'agent': {'pos': 4, 'vel': 0.0},\n",
       "  'cookie': {'pos': 0.9194711828695544, 'time': 5}},\n",
       " {'distance': 3.0805288171304457, 'steps': 0})"
      ]
     },
     "execution_count": 15,
     "metadata": {},
     "output_type": "execute_result"
    }
   ],
   "source": [
    "# env = gymnasium.make('cookiedisaster/GridWorld-v0',render_mode='human')\n",
    "env.reset() "
   ]
  },
  {
   "cell_type": "code",
   "execution_count": 16,
   "metadata": {},
   "outputs": [
    {
     "data": {
      "text/plain": [
       "({'agent': {'pos': 4, 'vel': 0.0},\n",
       "  'cookie': {'pos': 0.7144556341196074, 'time': 5}},\n",
       " {'distance': 3.2855443658803924, 'steps': 0})"
      ]
     },
     "execution_count": 16,
     "metadata": {},
     "output_type": "execute_result"
    }
   ],
   "source": [
    "# env = gymnasium.make('cookiedisaster/GridWorld-v0',render_mode='human')\n",
    "env.reset(seed=SEED) "
   ]
  },
  {
   "cell_type": "code",
   "execution_count": 17,
   "metadata": {},
   "outputs": [
    {
     "data": {
      "text/plain": [
       "({'agent': {'pos': 4, 'vel': 0.0},\n",
       "  'cookie': {'pos': 0.9987482748606419, 'time': 5}},\n",
       " {'distance': 3.0012517251393582, 'steps': 0})"
      ]
     },
     "execution_count": 17,
     "metadata": {},
     "output_type": "execute_result"
    }
   ],
   "source": [
    "# env = gymnasium.make('cookiedisaster/GridWorld-v0',render_mode='human')\n",
    "env.reset(seed=SEED) "
   ]
  },
  {
   "cell_type": "markdown",
   "metadata": {},
   "source": [
    "#### get the observation:\n",
    "- the agents pos and vel\n",
    "- the cookies pos and time remaining"
   ]
  },
  {
   "cell_type": "code",
   "execution_count": 18,
   "metadata": {},
   "outputs": [
    {
     "data": {
      "text/plain": [
       "{'agent': {'pos': 4, 'vel': 0.0},\n",
       " 'cookie': {'pos': 0.15028391152286996, 'time': 5}}"
      ]
     },
     "execution_count": 18,
     "metadata": {},
     "output_type": "execute_result"
    }
   ],
   "source": [
    "env.reset(seed=SEED)[0]"
   ]
  },
  {
   "cell_type": "code",
   "execution_count": 57,
   "metadata": {},
   "outputs": [
    {
     "data": {
      "text/plain": [
       "({'agent': {'pos': 9.999999, 'vel': 0.0},\n",
       "  'cookie': {'pos': 1.6249293467637482, 'time': 4.3999999999999995}},\n",
       " -0.1,\n",
       " False,\n",
       " False,\n",
       " {'distance': 8.375069653236253, 'steps': 38})"
      ]
     },
     "execution_count": 57,
     "metadata": {},
     "output_type": "execute_result"
    }
   ],
   "source": [
    "env.step(2)"
   ]
  },
  {
   "cell_type": "code",
   "execution_count": 20,
   "metadata": {},
   "outputs": [],
   "source": [
    "env.render()"
   ]
  },
  {
   "cell_type": "code",
   "execution_count": null,
   "metadata": {},
   "outputs": [],
   "source": []
  },
  {
   "cell_type": "code",
   "execution_count": null,
   "metadata": {},
   "outputs": [],
   "source": []
  }
 ],
 "metadata": {
  "kernelspec": {
   "display_name": "inf368",
   "language": "python",
   "name": "python3"
  },
  "language_info": {
   "codemirror_mode": {
    "name": "ipython",
    "version": 3
   },
   "file_extension": ".py",
   "mimetype": "text/x-python",
   "name": "python",
   "nbconvert_exporter": "python",
   "pygments_lexer": "ipython3",
   "version": "3.11.7"
  }
 },
 "nbformat": 4,
 "nbformat_minor": 2
}
