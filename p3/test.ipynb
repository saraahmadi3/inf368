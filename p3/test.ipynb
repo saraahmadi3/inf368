{
 "cells": [
  {
   "cell_type": "code",
   "execution_count": 8,
   "metadata": {},
   "outputs": [],
   "source": [
    "import pickle\n",
    "\n",
    "fd = open('trajectories.pickle','rb')\n",
    "D = pickle.load(fd)"
   ]
  },
  {
   "cell_type": "code",
   "execution_count": 11,
   "metadata": {},
   "outputs": [
    {
     "data": {
      "text/plain": [
       "1000"
      ]
     },
     "execution_count": 11,
     "metadata": {},
     "output_type": "execute_result"
    }
   ],
   "source": [
    "len(D)"
   ]
  },
  {
   "cell_type": "code",
   "execution_count": 12,
   "metadata": {},
   "outputs": [
    {
     "data": {
      "text/plain": [
       "500"
      ]
     },
     "execution_count": 12,
     "metadata": {},
     "output_type": "execute_result"
    }
   ],
   "source": [
    "len(D[0])"
   ]
  },
  {
   "cell_type": "code",
   "execution_count": 13,
   "metadata": {},
   "outputs": [
    {
     "data": {
      "text/plain": [
       "4"
      ]
     },
     "execution_count": 13,
     "metadata": {},
     "output_type": "execute_result"
    }
   ],
   "source": [
    "len(D[0][0])"
   ]
  },
  {
   "cell_type": "code",
   "execution_count": 26,
   "metadata": {},
   "outputs": [
    {
     "data": {
      "text/plain": [
       "[((15, 0), 0, -0.5058824, (14, 0)),\n",
       " ((14, 0), 6, -0.5058824, (14, 0)),\n",
       " ((14, 0), 5, -0.5058824, (15, 1)),\n",
       " ((15, 1), 3, -0.5058824, (16, 0)),\n",
       " ((16, 0), 3, -0.5058824, (17, 0)),\n",
       " ((17, 0), 6, -0.5058824, (17, 0)),\n",
       " ((17, 0), 0, -0.5058824, (16, 0)),\n",
       " ((16, 0), 5, -0.5058824, (17, 0)),\n",
       " ((17, 0), 1, -0.5058824, (16, 0))]"
      ]
     },
     "execution_count": 26,
     "metadata": {},
     "output_type": "execute_result"
    }
   ],
   "source": [
    "D[0][0:9]"
   ]
  },
  {
   "cell_type": "code",
   "execution_count": 27,
   "metadata": {},
   "outputs": [
    {
     "data": {
      "text/plain": [
       "[((21, 7), 6, -0.2, (21, 6)),\n",
       " ((21, 6), 1, -0.5058824, (20, 7)),\n",
       " ((20, 7), 6, -0.41960785, (20, 6)),\n",
       " ((20, 6), 0, -0.5058824, (19, 5)),\n",
       " ((19, 5), 6, -0.5882353, (19, 4)),\n",
       " ((19, 4), 6, -0.6509804, (19, 3)),\n",
       " ((19, 3), 6, -0.627451, (19, 2)),\n",
       " ((19, 2), 5, -0.5411765, (20, 3)),\n",
       " ((20, 3), 3, -0.5058824, (21, 2))]"
      ]
     },
     "execution_count": 27,
     "metadata": {},
     "output_type": "execute_result"
    }
   ],
   "source": [
    "D[0][100:109]"
   ]
  },
  {
   "cell_type": "code",
   "execution_count": null,
   "metadata": {},
   "outputs": [],
   "source": []
  }
 ],
 "metadata": {
  "kernelspec": {
   "display_name": "inf368",
   "language": "python",
   "name": "python3"
  },
  "language_info": {
   "codemirror_mode": {
    "name": "ipython",
    "version": 3
   },
   "file_extension": ".py",
   "mimetype": "text/x-python",
   "name": "python",
   "nbconvert_exporter": "python",
   "pygments_lexer": "ipython3",
   "version": "3.11.7"
  }
 },
 "nbformat": 4,
 "nbformat_minor": 2
}
