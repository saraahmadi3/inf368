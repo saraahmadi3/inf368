{
 "cells": [
  {
   "cell_type": "code",
   "execution_count": 1,
   "metadata": {},
   "outputs": [
    {
     "name": "stderr",
     "output_type": "stream",
     "text": [
      "C:\\Users\\shani\\AppData\\Local\\Temp\\ipykernel_10144\\3538350959.py:1: DeprecationWarning: \n",
      "Pyarrow will become a required dependency of pandas in the next major release of pandas (pandas 3.0),\n",
      "(to allow more performant data types, such as the Arrow string type, and better interoperability with other libraries)\n",
      "but was not found to be installed on your system.\n",
      "If this would cause problems for you,\n",
      "please provide us feedback at https://github.com/pandas-dev/pandas/issues/54466\n",
      "        \n",
      "  import pandas as pd\n"
     ]
    }
   ],
   "source": [
    "import pandas as pd\n",
    "import numpy as np\n",
    "import matplotlib.pyplot as plt\n"
   ]
  },
  {
   "cell_type": "markdown",
   "metadata": {},
   "source": [
    "# Exercise 3: Entropy"
   ]
  },
  {
   "cell_type": "code",
   "execution_count": 3,
   "metadata": {},
   "outputs": [],
   "source": [
    "p1 = np.array([0.2, 0.2,0.2,0.2,0.2])\n",
    "domain_p1 = np.array ([0,1,2,3,4])\n",
    "\n",
    "p2 = np.array([0.1,0.2,0.4,0.2,0.1])\n",
    "domain_p2 = domain_p1\n",
    "\n",
    "p3  = np.array([0.1, 0.2, 0.4, 0.2, 0.1])\n",
    "domain_p3 = np.array([0.0, 0.2, 0.4, 0.6, 0.8])\n",
    "\n",
    "p4 = np.array([0.1, 0.2, 0.2, 0.4, 0.1])\n",
    "domain_p4 = domain_p3\n"
   ]
  },
  {
   "cell_type": "code",
   "execution_count": 9,
   "metadata": {},
   "outputs": [
    {
     "name": "stdout",
     "output_type": "stream",
     "text": [
      "Expected value of p1: 2.0\n",
      "Variance of p1: 2.0\n",
      "entropy of p1: 2.321928094887362\n",
      "------------------------------------\n",
      "\n",
      "Expected value of p2: 2.0\n",
      "Variance of p2: 1.2\n",
      "entropy of p2: 2.121928094887362\n",
      "------------------------------------\n",
      "\n",
      "Expected value of p3: 0.4000000000000001\n",
      "Variance of p3: 0.048\n",
      "entropy of p3: 2.121928094887362\n",
      "------------------------------------\n",
      "\n",
      "Expected value of p4: 0.44\n",
      "Variance of p4: 0.054400000000000004\n",
      "entropy of p4: 2.121928094887362\n"
     ]
    }
   ],
   "source": [
    "def claculations(p, domain):\n",
    "    expected = np.sum(p * domain)\n",
    "    variance = np.sum(p * (domain - np.sum(p * expected))**2)\n",
    "    entropy = -np.sum(p * np.log2(p))\n",
    "    \n",
    "    return expected, variance,entropy\n",
    "\n",
    "p1ex, p1var,ent1 = claculations(p1, domain_p1)\n",
    "p2ex, p2var, ent2 = claculations(p2, domain_p2)\n",
    "p3ex, p3var, ent3 = claculations(p3, domain_p3)\n",
    "p4ex, p4var, ent4 = claculations(p4, domain_p4)\n",
    "\n",
    "print(f\"Expected value of p1: {p1ex}\")\n",
    "print(f\"Variance of p1: {p1var}\")\n",
    "print(f\"entropy of p1: {ent1}\")\n",
    "\n",
    "print(\"------------------------------------\\n\")\n",
    "\n",
    "print(f\"Expected value of p2: {p2ex}\")\n",
    "print(f\"Variance of p2: {p2var}\")\n",
    "print(f\"entropy of p2: {ent2}\")\n",
    "\n",
    "print(\"------------------------------------\\n\")\n",
    "\n",
    "print(f\"Expected value of p3: {p3ex}\")\n",
    "print(f\"Variance of p3: {p3var}\")\n",
    "print(f\"entropy of p3: {ent3}\")\n",
    "\n",
    "print(\"------------------------------------\\n\")\n",
    "\n",
    "print(f\"Expected value of p4: {p4ex}\")\n",
    "print(f\"Variance of p4: {p4var}\")\n",
    "print(f\"entropy of p4: {ent4}\")"
   ]
  },
  {
   "cell_type": "markdown",
   "metadata": {},
   "source": [
    "# Exercise 4: KL"
   ]
  },
  {
   "cell_type": "code",
   "execution_count": 11,
   "metadata": {},
   "outputs": [
    {
     "name": "stdout",
     "output_type": "stream",
     "text": [
      "KL divergence between p1 and p1: 0.0\n",
      "------------------------------------\n",
      "\n",
      "KL divergence between p1 and p2: 0.2\n",
      "------------------------------------\n",
      "\n",
      "KL divergence between p1 and p3: 0.2\n"
     ]
    }
   ],
   "source": [
    "def kl_divergence(p, q):\n",
    "    return np.sum(p * np.log2(p/q))\n",
    "\n",
    "kl_divergence_p1_p1 = kl_divergence(p1, p1)\n",
    "kl_divergence_p1_p2 = kl_divergence(p1, p2)\n",
    "kl_divergence_p1_p3 = kl_divergence(p1, p3)\n",
    "\n",
    "print(f\"KL divergence between p1 and p1: {kl_divergence_p1_p1}\")\n",
    "print(\"------------------------------------\\n\")\n",
    "print(f\"KL divergence between p1 and p2: {kl_divergence_p1_p2}\")\n",
    "print(\"------------------------------------\\n\")\n",
    "print(f\"KL divergence between p1 and p3: {kl_divergence_p1_p3}\")"
   ]
  },
  {
   "cell_type": "markdown",
   "metadata": {},
   "source": [
    "# Exercise 5: First- and second-order optimization, and trust region optimization"
   ]
  },
  {
   "cell_type": "code",
   "execution_count": 18,
   "metadata": {},
   "outputs": [
    {
     "name": "stdout",
     "output_type": "stream",
     "text": [
      "function value at 2: 7.0\n",
      "First-order approximation at 2: 7.0\n",
      "Second-order approximation at 2: 7.0\n"
     ]
    }
   ],
   "source": [
    "\n",
    "def f(x):\n",
    "    return 1/4*x**4 + 3/4*x**3 - 2*x + 1\n",
    "\n",
    "def f_prime(x):\n",
    "    return x**3 + 9/4*x**2 - 2\n",
    "\n",
    "def f_double_prime(x):\n",
    "    return 3*x**2 + 9/2*x\n",
    "\n",
    "x0 = 2\n",
    "\n",
    "# First-order Taylor series approximation\n",
    "f_first_order = lambda x: f(x0) + f_prime(x0) * (x - x0)\n",
    "\n",
    "\n",
    "# Second-order Taylor series approximation\n",
    "f_second_order = lambda x: f_first_order(x) + 1/2 * f_double_prime(x0) * (x - x0)**2\n",
    "\n",
    "\n",
    "\n",
    "\n",
    "print(f\"function value at {x0}: {f(x0)}\")\n",
    "print(f\"First-order approximation at {x0}: {f_first_order(x0)}\")\n",
    "print(f\"Second-order approximation at {x0}: {f_second_order(x0)}\")\n"
   ]
  },
  {
   "cell_type": "code",
   "execution_count": null,
   "metadata": {},
   "outputs": [],
   "source": []
  }
 ],
 "metadata": {
  "kernelspec": {
   "display_name": "gym",
   "language": "python",
   "name": "python3"
  },
  "language_info": {
   "codemirror_mode": {
    "name": "ipython",
    "version": 3
   },
   "file_extension": ".py",
   "mimetype": "text/x-python",
   "name": "python",
   "nbconvert_exporter": "python",
   "pygments_lexer": "ipython3",
   "version": "3.12.1"
  }
 },
 "nbformat": 4,
 "nbformat_minor": 2
}
