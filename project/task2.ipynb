{
 "cells": [
  {
   "cell_type": "code",
   "execution_count": 5,
   "metadata": {},
   "outputs": [
    {
     "name": "stdout",
     "output_type": "stream",
     "text": [
      "2.2.2\n"
     ]
    }
   ],
   "source": [
    "import gymnasium as gym\n",
    "import cookiedisaster\n",
    "import numpy as np\n",
    "import random\n",
    "import matplotlib.pyplot as plt\n",
    "import torch\n",
    "import torch.nn as nn\n",
    "import torch.optim as optim\n",
    "from BaseAgent import AbstractAgent\n",
    "print(torch.__version__)\n",
    "\n",
    "SEED=2\n",
    "np.random.seed(SEED)\n",
    "random.seed(SEED)"
   ]
  },
  {
   "cell_type": "code",
   "execution_count": 14,
   "metadata": {},
   "outputs": [],
   "source": [
    "# actor critic model\n",
    "class PolicyNetwork(nn.Module):\n",
    "    def __init__(self, input_dim, output_dim):\n",
    "        super(PolicyNetwork, self).__init__()\n",
    "        self.fc = nn.Sequential(\n",
    "            nn.Linear(input_dim, 128),\n",
    "            nn.ReLU(),\n",
    "            nn.Linear(128, output_dim),\n",
    "            nn.Softmax(dim=-1)\n",
    "        )\n",
    "\n",
    "    def forward(self, x):\n",
    "        return self.fc(x)\n",
    "\n",
    "class ValueNetwork(nn.Module):\n",
    "    def __init__(self, input_dim):\n",
    "        super(ValueNetwork, self).__init__()\n",
    "        self.fc = nn.Sequential(\n",
    "            nn.Linear(input_dim, 128),\n",
    "            nn.ReLU(),\n",
    "            nn.Linear(128, 1)\n",
    "        )\n",
    "\n",
    "    def forward(self, x):\n",
    "        return self.fc(x)\n",
    "\n",
    "# important parameters that need to be updated based on the environment\n",
    "ENV_WIDTH=0.001\n",
    "ENV_LIFETIME=1\n",
    "MAX_TIME=ENV_LIFETIME*10*5 # 10 cookies elapse time (lifetime*steps_per_second*nr_of_elapsed_cookies)\n",
    "\n",
    "def normalize(value, min_value, max_value, scale_min=-1, scale_max=1):\n",
    "    return ((value - min_value) / (max_value - min_value)) * (scale_max - scale_min) + scale_min\n",
    "\n",
    "def preprocess_state(state):\n",
    "    # Assuming state is a dictionary like:\n",
    "    # {'robot': {'pos': x, 'vel': y}, 'cookie': {'pos': z, 'time': w}}\n",
    "    \n",
    "    robot_pos = normalize(state['agent']['pos'], 0, ENV_WIDTH)\n",
    "    robot_vel = normalize(state['agent']['vel'], -4, 4)\n",
    "    cookie_pos = normalize(state['cookie']['pos'], 0, ENV_WIDTH)\n",
    "    cookie_time = normalize(state['cookie']['time'], 0, ENV_LIFETIME)\n",
    "    distance = robot_pos - cookie_pos\n",
    "    direction = 1 if distance > 0 else -1\n",
    "    \n",
    "    # Return the normalized state as a numpy array\n",
    "    return np.array([robot_pos, robot_vel, cookie_pos, cookie_time,distance, direction])\n",
    "\n",
    "def update_env(state):\n",
    "    global ENV_WIDTH,ENV_LIFETIME,MAX_TIME\n",
    "    ENV_WIDTH=state['agent']['pos']*2\n",
    "    ENV_LIFETIME=state['cookie']['time']\n",
    "    MAX_TIME=ENV_LIFETIME*10*5 \n",
    "\n",
    "class CookiePatrolAgent(AbstractAgent):\n",
    "    def __init__(self, input_dim, output_dim,epsilon=0, lr=0.001,save_path=None):\n",
    "        super().__init__()\n",
    "        self.policy = PolicyNetwork(input_dim, output_dim)\n",
    "        self.value = ValueNetwork(input_dim)\n",
    "        self.epsilon = epsilon\n",
    "        self.count=0\n",
    "        if save_path:\n",
    "            self.load(save_path)\n",
    "        else:\n",
    "            self.policy_optimizer = optim.Adam(self.policy.parameters(), lr=lr)\n",
    "            self.value_optimizer = optim.Adam(self.value.parameters(), lr=lr)\n",
    "\n",
    "    def select_action(self, observation):\n",
    "        if self.count==0:\n",
    "            print('First observation:',observation)\n",
    "            update_env(observation)\n",
    "            self.count+=1\n",
    "        observation=preprocess_state(observation)\n",
    "        state_tensor = torch.FloatTensor(observation).unsqueeze(0)\n",
    "        action_probs = self.policy(state_tensor)\n",
    "        distribution = torch.distributions.Categorical(action_probs)\n",
    "        action = distribution.sample()\n",
    "        self.log_prob = distribution.log_prob(action)\n",
    "        if np.random.rand() < self.epsilon:\n",
    "            return np.random.choice([0, 1, 2])\n",
    "        return action.item()\n",
    "\n",
    "    def learn(self, state, reward, next_state, done):\n",
    "        state=preprocess_state(state)\n",
    "        next_state=preprocess_state(next_state)\n",
    "        state_value = self.value(torch.FloatTensor(state).unsqueeze(0))\n",
    "        next_state_value = self.value(torch.FloatTensor(next_state).unsqueeze(0))\n",
    "        td_target = reward + (0.99 * next_state_value * (1 - int(done)))\n",
    "        td_error = td_target - state_value\n",
    "        \n",
    "        # Critic loss\n",
    "        critic_loss = td_error.pow(2)\n",
    "        self.value_optimizer.zero_grad()\n",
    "        critic_loss.backward()\n",
    "        self.value_optimizer.step()\n",
    "\n",
    "        # Actor loss\n",
    "        actor_loss = -self.log_prob * td_error.detach()\n",
    "        self.policy_optimizer.zero_grad()\n",
    "        actor_loss.backward()\n",
    "        self.policy_optimizer.step()\n",
    "\n",
    "        # update epsilon if the agent is learning\n",
    "        if self.epsilon!=0:\n",
    "            self.epsilon = max(0.01, self.epsilon * 0.995)\n",
    "        \n",
    "\n",
    "    def save(self, path):\n",
    "        torch.save({'policy_state_dict': self.policy.state_dict(),\n",
    "                    'value_state_dict': self.value.state_dict()}, path)\n",
    "\n",
    "    def load(self, path):\n",
    "        checkpoint = torch.load(path)\n",
    "        self.policy.load_state_dict(checkpoint['policy_state_dict'])\n",
    "        self.value.load_state_dict(checkpoint['value_state_dict'])\n",
    "\n",
    "    #ask fabio can have extra functions here, or keep seperate from base agent??\n",
    "\n",
    "    \n",
    "# # Example of how to instantiate and use the agent\n",
    "# env_parameters = {\n",
    "#     'input_dim': 6,  # Adjust based on your environment observation space\n",
    "#     'output_dim': 3  # Adjust based on your environment action space\n",
    "# }\n",
    "# agent = CookiePatrolAgent(**env_parameters)\n"
   ]
  },
  {
   "cell_type": "code",
   "execution_count": 8,
   "metadata": {},
   "outputs": [
    {
     "name": "stderr",
     "output_type": "stream",
     "text": [
      "c:\\Users\\saraa\\anaconda3\\envs\\inf368\\Lib\\site-packages\\gymnasium\\envs\\registration.py:513: DeprecationWarning: \u001b[33mWARN: The environment cookiedisaster-v1 is out of date. You should consider upgrading to version `v3`.\u001b[0m\n",
      "  logger.deprecation(\n"
     ]
    },
    {
     "name": "stdout",
     "output_type": "stream",
     "text": [
      "Environment 0: Episode 0 Reward: -11.801055209464124\n",
      "Environment 1: Episode 0 Reward: 7.718166117584107\n",
      "Environment 2: Episode 0 Reward: 14.804839355317469\n",
      "Environment 3: Episode 0 Reward: 46.820693851226984\n",
      "Environment 4: Episode 0 Reward: 24\n",
      "Environment 5: Episode 0 Reward: 24.940470097647033\n",
      "Environment 6: Episode 0 Reward: 20.75468031359724\n",
      "Environment 7: Episode 0 Reward: 34.91452321102804\n",
      "Environment 8: Episode 0 Reward: 31.308884927014972\n",
      "Environment 9: Episode 0 Reward: 55.949907516836994\n",
      "Environment 10: Episode 0 Reward: 23\n",
      "Environment 11: Episode 0 Reward: 23\n",
      "Environment 12: Episode 0 Reward: 28.100056309131737\n",
      "Environment 13: Episode 0 Reward: 26\n",
      "Environment 14: Episode 0 Reward: 38.83841505746278\n",
      "Environment 15: Episode 0 Reward: 32.218962717288974\n",
      "Environment 16: Episode 0 Reward: 12.5\n",
      "Environment 17: Episode 0 Reward: 37.07325905427789\n",
      "Environment 18: Episode 0 Reward: 38.55546519909471\n",
      "Environment 19: Episode 0 Reward: 44.32343253316225\n",
      "Environment 20: Episode 0 Reward: 31.509234997276117\n",
      "Environment 21: Episode 0 Reward: 18.5\n",
      "Environment 22: Episode 0 Reward: 23.23305714131469\n",
      "Environment 23: Episode 0 Reward: 43.06343171670948\n",
      "Environment 24: Episode 0 Reward: 32.65662741009843\n",
      "Environment 25: Episode 0 Reward: 36\n",
      "Environment 26: Episode 0 Reward: 25.45100764998267\n",
      "Results for 0: Average Reward: -0.9090333020091569\n",
      "Results for 1: Average Reward: 5.381889513289783\n",
      "Results for 2: Average Reward: 32.91488927233012\n",
      "Results for 3: Average Reward: 46.85975293405328\n",
      "Results for 4: Average Reward: 22.583771179459365\n",
      "Results for 5: Average Reward: 29.40348741628112\n",
      "Results for 6: Average Reward: 22.327455066759565\n",
      "Results for 7: Average Reward: 34.535687988369176\n",
      "Results for 8: Average Reward: 32.058608243224356\n",
      "Results for 9: Average Reward: 57.21697572782964\n",
      "Results for 10: Average Reward: 24.717194866752294\n",
      "Results for 11: Average Reward: 21.66528518108771\n",
      "Results for 12: Average Reward: 32.13772397475999\n",
      "Results for 13: Average Reward: 27.02002866530238\n",
      "Results for 14: Average Reward: 42.7840219485675\n",
      "Results for 15: Average Reward: 34.418293807312565\n",
      "Results for 16: Average Reward: 17.62033896131545\n",
      "Results for 17: Average Reward: 36.65825602551625\n",
      "Results for 18: Average Reward: 41.64741389795767\n",
      "Results for 19: Average Reward: 39.95225122914972\n",
      "Results for 20: Average Reward: 37.89278165686143\n",
      "Results for 21: Average Reward: 20.68023562355141\n",
      "Results for 22: Average Reward: 24.835064642946563\n",
      "Results for 23: Average Reward: 39.63592785852873\n",
      "Results for 24: Average Reward: 37.582619392884126\n",
      "Results for 25: Average Reward: 28.295262206211696\n",
      "Results for 26: Average Reward: 28.511506577028843\n"
     ]
    }
   ],
   "source": [
    "def train_on_environments(envs, num_episodes_per_env=20, gamma=0.99):\n",
    "    results = {}\n",
    "    agent_parameters = {'input_dim': 6, 'output_dim': envs[0].action_space.n, 'epsilon':0.5}\n",
    "    agent = CookiePatrolAgent(**agent_parameters)\n",
    "    \n",
    "    for i in range(len(envs)):\n",
    "        env = envs[i]\n",
    "        episode_rewards = []\n",
    "        for episode in range(num_episodes_per_env):\n",
    "            state = env.reset()[0]\n",
    "            # print('state',state)\n",
    "            update_env(state)\n",
    "            # state = preprocess_state(state)\n",
    "            done = False\n",
    "            total_reward = 0\n",
    "            count = 0\n",
    "            while not done:\n",
    "                if count > MAX_TIME:\n",
    "                    # print('time out')\n",
    "                    break\n",
    "                count+=1\n",
    "                action = agent.select_action(state)\n",
    "                next_state, reward, done, _, _ = env.step(action)\n",
    "                # print('next_state',next_state)\n",
    "                # next_state = preprocess_state(next_state)\n",
    "\n",
    "                agent.learn(state, reward, next_state, done)\n",
    "                state = next_state\n",
    "                total_reward += reward\n",
    "\n",
    "            episode_rewards.append(total_reward)\n",
    "            # print('ep,end')\n",
    "            if episode % 10 == 0:\n",
    "                print(f\"Environment {i}: Episode {episode} Reward: {total_reward}\")\n",
    "        \n",
    "        results[i] = episode_rewards\n",
    "    return results, agent\n",
    "\n",
    "\n",
    "envs = [\n",
    "    gym.make('cookiedisaster-v1',config={\"img\": \"cake\",\"width\" : 10, \"lifetime\":5, \"friction\": lambda vel: - abs(vel)*vel * 0.05}),\n",
    "    gym.make('cookiedisaster-v1',config={\"img\": \"cake\",\"width\" : 10, \"lifetime\":5, \"friction\": lambda vel: - abs(vel)*vel * 0.08}),\n",
    "    gym.make('cookiedisaster-v1',config={\"img\": \"cake\",\"width\" : 10, \"lifetime\":5, \"friction\": lambda vel: - abs(vel)*vel * 0.01}),\n",
    "    gym.make('cookiedisaster-v1',config={\"img\": \"cake\",\"width\" : 10, \"lifetime\":4, \"friction\": lambda vel: - abs(vel)*vel * 0.05}),\n",
    "    gym.make('cookiedisaster-v1',config={\"img\": \"cake\",\"width\" : 10, \"lifetime\":4, \"friction\": lambda vel: - abs(vel)*vel * 0.08}),\n",
    "    gym.make('cookiedisaster-v1',config={\"img\": \"cake\",\"width\" : 10, \"lifetime\":4, \"friction\": lambda vel: - abs(vel)*vel * 0.01}),\n",
    "    gym.make('cookiedisaster-v1',config={\"img\": \"cake\",\"width\" : 10, \"lifetime\":7, \"friction\": lambda vel: - abs(vel)*vel * 0.05}),\n",
    "    gym.make('cookiedisaster-v1',config={\"img\": \"cake\",\"width\" : 10, \"lifetime\":7, \"friction\": lambda vel: - abs(vel)*vel * 0.08}),\n",
    "    gym.make('cookiedisaster-v1',config={\"img\": \"cake\",\"width\" : 10, \"lifetime\":7, \"friction\": lambda vel: - abs(vel)*vel * 0.01}),\n",
    "    gym.make('cookiedisaster-v1',config={\"img\": \"cake\",\"width\" : 5, \"lifetime\":5, \"friction\": lambda vel: - abs(vel)*vel * 0.05}),\n",
    "    gym.make('cookiedisaster-v1',config={\"img\": \"cake\",\"width\" : 5, \"lifetime\":5, \"friction\": lambda vel: - abs(vel)*vel * 0.08}),\n",
    "    gym.make('cookiedisaster-v1',config={\"img\": \"cake\",\"width\" : 5, \"lifetime\":5, \"friction\": lambda vel: - abs(vel)*vel * 0.01}),\n",
    "    gym.make('cookiedisaster-v1',config={\"img\": \"cake\",\"width\" : 5, \"lifetime\":4, \"friction\": lambda vel: - abs(vel)*vel * 0.05}),\n",
    "    gym.make('cookiedisaster-v1',config={\"img\": \"cake\",\"width\" : 5, \"lifetime\":4, \"friction\": lambda vel: - abs(vel)*vel * 0.08}),\n",
    "    gym.make('cookiedisaster-v1',config={\"img\": \"cake\",\"width\" : 5, \"lifetime\":4, \"friction\": lambda vel: - abs(vel)*vel * 0.01}),\n",
    "    gym.make('cookiedisaster-v1',config={\"img\": \"cake\",\"width\" : 5, \"lifetime\":7, \"friction\": lambda vel: - abs(vel)*vel * 0.05}),\n",
    "    gym.make('cookiedisaster-v1',config={\"img\": \"cake\",\"width\" : 5, \"lifetime\":7, \"friction\": lambda vel: - abs(vel)*vel * 0.08}),\n",
    "    gym.make('cookiedisaster-v1',config={\"img\": \"cake\",\"width\" : 5, \"lifetime\":7, \"friction\": lambda vel: - abs(vel)*vel * 0.01}),\n",
    "    gym.make('cookiedisaster-v1',config={\"img\": \"cake\",\"width\" : 12, \"lifetime\":5, \"friction\": lambda vel: - abs(vel)*vel * 0.05}),\n",
    "    gym.make('cookiedisaster-v1',config={\"img\": \"cake\",\"width\" : 12, \"lifetime\":5, \"friction\": lambda vel: - abs(vel)*vel * 0.08}),\n",
    "    gym.make('cookiedisaster-v1',config={\"img\": \"cake\",\"width\" : 12, \"lifetime\":5, \"friction\": lambda vel: - abs(vel)*vel * 0.01}),\n",
    "    gym.make('cookiedisaster-v1',config={\"img\": \"cake\",\"width\" : 12, \"lifetime\":4, \"friction\": lambda vel: - abs(vel)*vel * 0.05}),\n",
    "    gym.make('cookiedisaster-v1',config={\"img\": \"cake\",\"width\" : 12, \"lifetime\":4, \"friction\": lambda vel: - abs(vel)*vel * 0.08}),\n",
    "    gym.make('cookiedisaster-v1',config={\"img\": \"cake\",\"width\" : 12, \"lifetime\":4, \"friction\": lambda vel: - abs(vel)*vel * 0.01}),\n",
    "    gym.make('cookiedisaster-v1',config={\"img\": \"cake\",\"width\" : 12, \"lifetime\":7, \"friction\": lambda vel: - abs(vel)*vel * 0.05}),\n",
    "    gym.make('cookiedisaster-v1',config={\"img\": \"cake\",\"width\" : 12, \"lifetime\":7, \"friction\": lambda vel: - abs(vel)*vel * 0.08}),\n",
    "    gym.make('cookiedisaster-v1',config={\"img\": \"cake\",\"width\" : 12, \"lifetime\":7, \"friction\": lambda vel: - abs(vel)*vel * 0.01}),\n",
    "]\n",
    "random.shuffle(envs)\n",
    "all_env_results,agent = train_on_environments(envs, num_episodes_per_env=5)\n",
    "\n",
    "# Optionally, print or plot the results for each environment\n",
    "for env_name, rewards in all_env_results.items():\n",
    "    print(f\"Results for {env_name}: Average Reward: {sum(rewards) / len(rewards)}\")\n"
   ]
  },
  {
   "cell_type": "code",
   "execution_count": 9,
   "metadata": {},
   "outputs": [],
   "source": [
    "# envs = [\n",
    "#     gym.make('cookiedisaster-v1',config={\"img\": \"cake\",\"width\" : 10, \"lifetime\":5, \"friction\": lambda vel: - abs(vel)*vel * 0.05}),\n",
    "#     gym.make('cookiedisaster-v1',config={\"img\": \"cake\",\"width\" : 10, \"lifetime\":5, \"friction\": lambda vel: - abs(vel)*vel * 0.08}),\n",
    "#     gym.make('cookiedisaster-v1',config={\"img\": \"cake\",\"width\" : 10, \"lifetime\":5, \"friction\": lambda vel: - abs(vel)*vel * 0.01}),\n",
    "#     gym.make('cookiedisaster-v1',config={\"img\": \"cake\",\"width\" : 10, \"lifetime\":4, \"friction\": lambda vel: - abs(vel)*vel * 0.05}),\n",
    "#     gym.make('cookiedisaster-v1',config={\"img\": \"cake\",\"width\" : 10, \"lifetime\":4, \"friction\": lambda vel: - abs(vel)*vel * 0.08}),\n",
    "#     gym.make('cookiedisaster-v1',config={\"img\": \"cake\",\"width\" : 10, \"lifetime\":4, \"friction\": lambda vel: - abs(vel)*vel * 0.01}),\n",
    "#     gym.make('cookiedisaster-v1',config={\"img\": \"cake\",\"width\" : 10, \"lifetime\":7, \"friction\": lambda vel: - abs(vel)*vel * 0.05}),\n",
    "#     gym.make('cookiedisaster-v1',config={\"img\": \"cake\",\"width\" : 10, \"lifetime\":7, \"friction\": lambda vel: - abs(vel)*vel * 0.08}),\n",
    "#     gym.make('cookiedisaster-v1',config={\"img\": \"cake\",\"width\" : 10, \"lifetime\":7, \"friction\": lambda vel: - abs(vel)*vel * 0.01}),\n",
    "#     gym.make('cookiedisaster-v1',config={\"img\": \"cake\",\"width\" : 5, \"lifetime\":5, \"friction\": lambda vel: - abs(vel)*vel * 0.05}),\n",
    "#     gym.make('cookiedisaster-v1',config={\"img\": \"cake\",\"width\" : 5, \"lifetime\":5, \"friction\": lambda vel: - abs(vel)*vel * 0.08}),\n",
    "#     gym.make('cookiedisaster-v1',config={\"img\": \"cake\",\"width\" : 5, \"lifetime\":5, \"friction\": lambda vel: - abs(vel)*vel * 0.01}),\n",
    "#     gym.make('cookiedisaster-v1',config={\"img\": \"cake\",\"width\" : 5, \"lifetime\":4, \"friction\": lambda vel: - abs(vel)*vel * 0.05}),\n",
    "#     gym.make('cookiedisaster-v1',config={\"img\": \"cake\",\"width\" : 5, \"lifetime\":4, \"friction\": lambda vel: - abs(vel)*vel * 0.08}),\n",
    "#     gym.make('cookiedisaster-v1',config={\"img\": \"cake\",\"width\" : 5, \"lifetime\":4, \"friction\": lambda vel: - abs(vel)*vel * 0.01}),\n",
    "#     gym.make('cookiedisaster-v1',config={\"img\": \"cake\",\"width\" : 5, \"lifetime\":7, \"friction\": lambda vel: - abs(vel)*vel * 0.05}),\n",
    "#     gym.make('cookiedisaster-v1',config={\"img\": \"cake\",\"width\" : 5, \"lifetime\":7, \"friction\": lambda vel: - abs(vel)*vel * 0.08}),\n",
    "#     gym.make('cookiedisaster-v1',config={\"img\": \"cake\",\"width\" : 5, \"lifetime\":7, \"friction\": lambda vel: - abs(vel)*vel * 0.01}),\n",
    "#     gym.make('cookiedisaster-v1',config={\"img\": \"cake\",\"width\" : 12, \"lifetime\":5, \"friction\": lambda vel: - abs(vel)*vel * 0.05}),\n",
    "#     gym.make('cookiedisaster-v1',config={\"img\": \"cake\",\"width\" : 12, \"lifetime\":5, \"friction\": lambda vel: - abs(vel)*vel * 0.08}),\n",
    "#     gym.make('cookiedisaster-v1',config={\"img\": \"cake\",\"width\" : 12, \"lifetime\":5, \"friction\": lambda vel: - abs(vel)*vel * 0.01}),\n",
    "#     gym.make('cookiedisaster-v1',config={\"img\": \"cake\",\"width\" : 12, \"lifetime\":4, \"friction\": lambda vel: - abs(vel)*vel * 0.05}),\n",
    "#     gym.make('cookiedisaster-v1',config={\"img\": \"cake\",\"width\" : 12, \"lifetime\":4, \"friction\": lambda vel: - abs(vel)*vel * 0.08}),\n",
    "#     gym.make('cookiedisaster-v1',config={\"img\": \"cake\",\"width\" : 12, \"lifetime\":4, \"friction\": lambda vel: - abs(vel)*vel * 0.01}),\n",
    "#     gym.make('cookiedisaster-v1',config={\"img\": \"cake\",\"width\" : 12, \"lifetime\":7, \"friction\": lambda vel: - abs(vel)*vel * 0.05}),\n",
    "#     gym.make('cookiedisaster-v1',config={\"img\": \"cake\",\"width\" : 12, \"lifetime\":7, \"friction\": lambda vel: - abs(vel)*vel * 0.08}),\n",
    "#     gym.make('cookiedisaster-v1',config={\"img\": \"cake\",\"width\" : 12, \"lifetime\":7, \"friction\": lambda vel: - abs(vel)*vel * 0.01}),\n",
    "# ]\n",
    "# random.shuffle(envs)\n",
    "# envs[0].spec.kwargs['config'],envs[1].spec.kwargs['config'],envs[2].spec.kwargs['config']"
   ]
  },
  {
   "cell_type": "code",
   "execution_count": 10,
   "metadata": {},
   "outputs": [],
   "source": [
    "# plt.plot(all_env_results[cookie_1.spec.id], label='Cookie Disaster v1')\n",
    "# plt.plot(all_env_results[cookie_2.spec.id], label='Cookie Disaster v2')\n",
    "# plt.plot(all_env_results[cookie_3.spec.id], label='Cookie Disaster v3')\n",
    "# plt.xlabel('Episode')\n",
    "# plt.ylabel('Total Reward')\n",
    "# plt.title('Cumulative Reward vs. Episodes')\n",
    "# plt.legend()\n",
    "# plt.show()"
   ]
  },
  {
   "cell_type": "code",
   "execution_count": 12,
   "metadata": {},
   "outputs": [
    {
     "name": "stdout",
     "output_type": "stream",
     "text": [
      "Results for cookiedisaster-v1: Average Reward: 26.458581633509965\n",
      "Results for cookiedisaster-v2: Average Reward: 45.86141702566411\n",
      "Results for cookiedisaster-v3: Average Reward: 27.914006466054364\n"
     ]
    }
   ],
   "source": [
    "def test_agent(agent, env, num_episodes=500):\n",
    "    rewards = []\n",
    "    state = env.reset()[0]\n",
    "    update_env(state)\n",
    "    # state = preprocess_state(state)\n",
    "    total_reward = 0\n",
    "    for _ in range(num_episodes):\n",
    "        action = agent.select_action(state)\n",
    "        next_state, reward, done, _, _ = env.step(action)\n",
    "        # next_state = preprocess_state(next_state)\n",
    "        state = next_state\n",
    "        total_reward += reward\n",
    "        rewards.append(total_reward)\n",
    "    env.close()\n",
    "    return rewards\n",
    "\n",
    "\n",
    "cookie_1 = gym.make('cookiedisaster-v1')  \n",
    "cookie_2 = gym.make('cookiedisaster-v2')\n",
    "cookie_3 = gym.make('cookiedisaster-v3')\n",
    "rewards=[]\n",
    "envs = [cookie_1, cookie_2, cookie_3]\n",
    "for env in envs:\n",
    "    rewards.append(test_agent(agent, env))\n",
    "    print(f\"Results for {env.spec.id}: Average Reward: {sum(rewards[-1]) / len(rewards[-1])}\")\n"
   ]
  },
  {
   "cell_type": "code",
   "execution_count": 13,
   "metadata": {},
   "outputs": [
    {
     "data": {
      "image/png": "[encoded data removed]",
      "text/plain": [
       "<Figure size 640x480 with 1 Axes>"
      ]
     },
     "metadata": {},
     "output_type": "display_data"
    }
   ],
   "source": [
    "plt.plot(rewards[0], label='Cookie Disaster v1')\n",
    "plt.plot(rewards[1], label='Cookie Disaster v2')\n",
    "plt.plot(rewards[2], label='Cookie Disaster v3')\n",
    "plt.xlabel('Episode')\n",
    "plt.ylabel('Total Reward')\n",
    "plt.title('Cumulative Reward vs. Episodes')\n",
    "plt.legend()\n",
    "plt.show()"
   ]
  },
  {
   "cell_type": "code",
   "execution_count": 24,
   "metadata": {},
   "outputs": [],
   "source": [
    "env=gym.make('cookiedisaster-v1',config={\"img\": \"cake\",\"width\" : 100, \"lifetime\":8, \"friction\": lambda vel: - abs(vel)*vel * 0.1},render_mode='human')"
   ]
  },
  {
   "cell_type": "code",
   "execution_count": 25,
   "metadata": {},
   "outputs": [
    {
     "ename": "KeyboardInterrupt",
     "evalue": "",
     "output_type": "error",
     "traceback": [
      "\u001b[1;31m---------------------------------------------------------------------------\u001b[0m",
      "\u001b[1;31mKeyboardInterrupt\u001b[0m                         Traceback (most recent call last)",
      "Cell \u001b[1;32mIn[25], line 1\u001b[0m\n\u001b[1;32m----> 1\u001b[0m \u001b[43mtest_agent\u001b[49m\u001b[43m(\u001b[49m\u001b[43magent\u001b[49m\u001b[43m,\u001b[49m\u001b[43menv\u001b[49m\u001b[43m)\u001b[49m\n",
      "Cell \u001b[1;32mIn[10], line 9\u001b[0m, in \u001b[0;36mtest_agent\u001b[1;34m(agent, env, num_episodes)\u001b[0m\n\u001b[0;32m      7\u001b[0m \u001b[38;5;28;01mfor\u001b[39;00m _ \u001b[38;5;129;01min\u001b[39;00m \u001b[38;5;28mrange\u001b[39m(num_episodes):\n\u001b[0;32m      8\u001b[0m     action \u001b[38;5;241m=\u001b[39m agent\u001b[38;5;241m.\u001b[39mselect_action(state)\n\u001b[1;32m----> 9\u001b[0m     next_state, reward, done, _, _ \u001b[38;5;241m=\u001b[39m \u001b[43menv\u001b[49m\u001b[38;5;241;43m.\u001b[39;49m\u001b[43mstep\u001b[49m\u001b[43m(\u001b[49m\u001b[43maction\u001b[49m\u001b[43m)\u001b[49m\n\u001b[0;32m     10\u001b[0m     next_state \u001b[38;5;241m=\u001b[39m preprocess_state(next_state)\n\u001b[0;32m     11\u001b[0m     state \u001b[38;5;241m=\u001b[39m next_state\n",
      "File \u001b[1;32mc:\\Users\\saraa\\anaconda3\\envs\\inf368\\Lib\\site-packages\\gymnasium\\wrappers\\order_enforcing.py:56\u001b[0m, in \u001b[0;36mOrderEnforcing.step\u001b[1;34m(self, action)\u001b[0m\n\u001b[0;32m     54\u001b[0m \u001b[38;5;28;01mif\u001b[39;00m \u001b[38;5;129;01mnot\u001b[39;00m \u001b[38;5;28mself\u001b[39m\u001b[38;5;241m.\u001b[39m_has_reset:\n\u001b[0;32m     55\u001b[0m     \u001b[38;5;28;01mraise\u001b[39;00m ResetNeeded(\u001b[38;5;124m\"\u001b[39m\u001b[38;5;124mCannot call env.step() before calling env.reset()\u001b[39m\u001b[38;5;124m\"\u001b[39m)\n\u001b[1;32m---> 56\u001b[0m \u001b[38;5;28;01mreturn\u001b[39;00m \u001b[38;5;28;43mself\u001b[39;49m\u001b[38;5;241;43m.\u001b[39;49m\u001b[43menv\u001b[49m\u001b[38;5;241;43m.\u001b[39;49m\u001b[43mstep\u001b[49m\u001b[43m(\u001b[49m\u001b[43maction\u001b[49m\u001b[43m)\u001b[49m\n",
      "File \u001b[1;32mc:\\Users\\saraa\\anaconda3\\envs\\inf368\\Lib\\site-packages\\gymnasium\\wrappers\\env_checker.py:51\u001b[0m, in \u001b[0;36mPassiveEnvChecker.step\u001b[1;34m(self, action)\u001b[0m\n\u001b[0;32m     49\u001b[0m     \u001b[38;5;28;01mreturn\u001b[39;00m env_step_passive_checker(\u001b[38;5;28mself\u001b[39m\u001b[38;5;241m.\u001b[39menv, action)\n\u001b[0;32m     50\u001b[0m \u001b[38;5;28;01melse\u001b[39;00m:\n\u001b[1;32m---> 51\u001b[0m     \u001b[38;5;28;01mreturn\u001b[39;00m \u001b[38;5;28;43mself\u001b[39;49m\u001b[38;5;241;43m.\u001b[39;49m\u001b[43menv\u001b[49m\u001b[38;5;241;43m.\u001b[39;49m\u001b[43mstep\u001b[49m\u001b[43m(\u001b[49m\u001b[43maction\u001b[49m\u001b[43m)\u001b[49m\n",
      "File \u001b[1;32mc:\\Users\\saraa\\OneDrive - University of Bergen\\24V\\INF368\\inf368\\project\\cookiedisaster\\envs\\cookiedisaster.py:211\u001b[0m, in \u001b[0;36mstep\u001b[1;34m(self, action)\u001b[0m\n\u001b[0;32m    208\u001b[0m observation \u001b[38;5;241m=\u001b[39m \u001b[38;5;28mself\u001b[39m\u001b[38;5;241m.\u001b[39m_get_obs()\n\u001b[0;32m    209\u001b[0m info \u001b[38;5;241m=\u001b[39m \u001b[38;5;28mself\u001b[39m\u001b[38;5;241m.\u001b[39m_get_info()\n\u001b[1;32m--> 211\u001b[0m \u001b[38;5;28;01mif\u001b[39;00m \u001b[38;5;28mself\u001b[39m\u001b[38;5;241m.\u001b[39mrender_mode \u001b[38;5;241m==\u001b[39m \u001b[38;5;124m\"\u001b[39m\u001b[38;5;124mhuman\u001b[39m\u001b[38;5;124m\"\u001b[39m:\n\u001b[0;32m    212\u001b[0m     \u001b[38;5;28mself\u001b[39m\u001b[38;5;241m.\u001b[39m_render_frame()\n\u001b[0;32m    215\u001b[0m \u001b[38;5;28mself\u001b[39m\u001b[38;5;241m.\u001b[39m_cummlative_reward \u001b[38;5;241m+\u001b[39m\u001b[38;5;241m=\u001b[39mreward\n",
      "File \u001b[1;32mc:\\Users\\saraa\\OneDrive - University of Bergen\\24V\\INF368\\inf368\\project\\cookiedisaster\\envs\\cookiedisaster.py:306\u001b[0m, in \u001b[0;36m_render_frame\u001b[1;34m(self)\u001b[0m\n\u001b[0;32m    304\u001b[0m \u001b[38;5;28;01mif\u001b[39;00m \u001b[38;5;28mself\u001b[39m\u001b[38;5;241m.\u001b[39mrender_mode \u001b[38;5;241m==\u001b[39m \u001b[38;5;124m\"\u001b[39m\u001b[38;5;124mhuman\u001b[39m\u001b[38;5;124m\"\u001b[39m:\n\u001b[0;32m    305\u001b[0m     \u001b[38;5;28mself\u001b[39m\u001b[38;5;241m.\u001b[39mwindow\u001b[38;5;241m.\u001b[39mblit(canvas, (\u001b[38;5;241m0\u001b[39m, \u001b[38;5;241m0\u001b[39m))\n\u001b[1;32m--> 306\u001b[0m     pygame\u001b[38;5;241m.\u001b[39mdisplay\u001b[38;5;241m.\u001b[39mflip()\n\u001b[0;32m    307\u001b[0m     \u001b[38;5;28mself\u001b[39m\u001b[38;5;241m.\u001b[39mclock\u001b[38;5;241m.\u001b[39mtick(\u001b[38;5;28mself\u001b[39m\u001b[38;5;241m.\u001b[39mmetadata[\u001b[38;5;124m\"\u001b[39m\u001b[38;5;124mrender_fps\u001b[39m\u001b[38;5;124m\"\u001b[39m])\n\u001b[0;32m    308\u001b[0m \u001b[38;5;28;01melif\u001b[39;00m \u001b[38;5;28mself\u001b[39m\u001b[38;5;241m.\u001b[39mrender_mode \u001b[38;5;241m==\u001b[39m \u001b[38;5;124m\"\u001b[39m\u001b[38;5;124mrgb_array\u001b[39m\u001b[38;5;124m\"\u001b[39m:\n",
      "\u001b[1;31mKeyboardInterrupt\u001b[0m: "
     ]
    }
   ],
   "source": [
    "test_agent(agent,env)"
   ]
  },
  {
   "cell_type": "code",
   "execution_count": null,
   "metadata": {},
   "outputs": [],
   "source": [
    "env.render()"
   ]
  },
  {
   "cell_type": "code",
   "execution_count": 17,
   "metadata": {},
   "outputs": [],
   "source": [
    "env.close()"
   ]
  },
  {
   "cell_type": "code",
   "execution_count": null,
   "metadata": {},
   "outputs": [
    {
     "data": {
      "text/plain": [
       "({'agent': {'pos': 1e-05, 'vel': 0.0},\n",
       "  'cookie': {'pos': 1.45531695765728, 'time': 6}},\n",
       " -0.6,\n",
       " False,\n",
       " False,\n",
       " {'distance': 1.45530695765728, 'steps': 34})"
      ]
     },
     "execution_count": 148,
     "metadata": {},
     "output_type": "execute_result"
    }
   ],
   "source": [
    "env.step(0)"
   ]
  },
  {
   "cell_type": "code",
   "execution_count": null,
   "metadata": {},
   "outputs": [
    {
     "data": {
      "text/plain": [
       "-1.0"
      ]
     },
     "execution_count": 15,
     "metadata": {},
     "output_type": "execute_result"
    }
   ],
   "source": [
    "normalize(0,0,10)"
   ]
  },
  {
   "cell_type": "code",
   "execution_count": null,
   "metadata": {},
   "outputs": [
    {
     "data": {
      "text/plain": [
       "1.25"
      ]
     },
     "execution_count": 16,
     "metadata": {},
     "output_type": "execute_result"
    }
   ],
   "source": [
    "normalize(5,-4,4)"
   ]
  },
  {
   "cell_type": "code",
   "execution_count": null,
   "metadata": {},
   "outputs": [],
   "source": []
  }
 ],
 "metadata": {
  "kernelspec": {
   "display_name": "inf368",
   "language": "python",
   "name": "python3"
  },
  "language_info": {
   "codemirror_mode": {
    "name": "ipython",
    "version": 3
   },
   "file_extension": ".py",
   "mimetype": "text/x-python",
   "name": "python",
   "nbconvert_exporter": "python",
   "pygments_lexer": "ipython3",
   "version": "3.11.7"
  }
 },
 "nbformat": 4,
 "nbformat_minor": 2
}
